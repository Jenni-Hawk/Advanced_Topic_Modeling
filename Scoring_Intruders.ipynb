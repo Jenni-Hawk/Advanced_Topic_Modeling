{
 "cells": [
  {
   "cell_type": "code",
   "execution_count": 2,
   "id": "51b607cd",
   "metadata": {},
   "outputs": [],
   "source": [
    "import pandas as pd\n",
    "from sklearn.metrics import classification_report"
   ]
  },
  {
   "cell_type": "code",
   "execution_count": 3,
   "id": "17ae8873",
   "metadata": {},
   "outputs": [
    {
     "data": {
      "text/html": [
       "<div>\n",
       "<style scoped>\n",
       "    .dataframe tbody tr th:only-of-type {\n",
       "        vertical-align: middle;\n",
       "    }\n",
       "\n",
       "    .dataframe tbody tr th {\n",
       "        vertical-align: top;\n",
       "    }\n",
       "\n",
       "    .dataframe thead th {\n",
       "        text-align: right;\n",
       "    }\n",
       "</style>\n",
       "<table border=\"1\" class=\"dataframe\">\n",
       "  <thead>\n",
       "    <tr style=\"text-align: right;\">\n",
       "      <th></th>\n",
       "      <th>Unnamed: 0</th>\n",
       "      <th>Tweets</th>\n",
       "      <th>Processed_Tweets</th>\n",
       "      <th>topic_label</th>\n",
       "      <th>intruder</th>\n",
       "      <th>intruder_index</th>\n",
       "      <th>jenni_intruder</th>\n",
       "    </tr>\n",
       "  </thead>\n",
       "  <tbody>\n",
       "    <tr>\n",
       "      <th>0</th>\n",
       "      <td>0</td>\n",
       "      <td>@The_FJC That #January6thCommitteeHearings was...</td>\n",
       "      <td>fjc planned yesterday exactly reason knew repo...</td>\n",
       "      <td>Mitch_Kevin_Knew</td>\n",
       "      <td>0</td>\n",
       "      <td>NaN</td>\n",
       "      <td>NaN</td>\n",
       "    </tr>\n",
       "    <tr>\n",
       "      <th>1</th>\n",
       "      <td>1</td>\n",
       "      <td>@washingtonpost #America #AmericaFirst #Januar...</td>\n",
       "      <td>america americafirst making martyr trump maga</td>\n",
       "      <td>Hamill_Democracy</td>\n",
       "      <td>1</td>\n",
       "      <td>1.0</td>\n",
       "      <td>1.0</td>\n",
       "    </tr>\n",
       "    <tr>\n",
       "      <th>2</th>\n",
       "      <td>2</td>\n",
       "      <td>Donald Trump knew he lost.‚Äù 2/2 - Chmn. Benn...</td>\n",
       "      <td>donald trump knew lost 2 2 chmn bennie thompso...</td>\n",
       "      <td>Mitch_Kevin_Knew</td>\n",
       "      <td>0</td>\n",
       "      <td>NaN</td>\n",
       "      <td>NaN</td>\n",
       "    </tr>\n",
       "    <tr>\n",
       "      <th>3</th>\n",
       "      <td>3</td>\n",
       "      <td>These #January6thCommitteeHearings have been e...</td>\n",
       "      <td>explosive knew jan 6 premeditated tfg amp team...</td>\n",
       "      <td>Mitch_Kevin_Knew</td>\n",
       "      <td>0</td>\n",
       "      <td>NaN</td>\n",
       "      <td>NaN</td>\n",
       "    </tr>\n",
       "    <tr>\n",
       "      <th>4</th>\n",
       "      <td>4</td>\n",
       "      <td>RT @ColorMeStevie: Mr. Trump is responsible fo...</td>\n",
       "      <td>mr trump responsible 6th period end lock</td>\n",
       "      <td>Mitch_Kevin_Knew</td>\n",
       "      <td>0</td>\n",
       "      <td>NaN</td>\n",
       "      <td>NaN</td>\n",
       "    </tr>\n",
       "  </tbody>\n",
       "</table>\n",
       "</div>"
      ],
      "text/plain": [
       "   Unnamed: 0                                             Tweets  \\\n",
       "0           0  @The_FJC That #January6thCommitteeHearings was...   \n",
       "1           1  @washingtonpost #America #AmericaFirst #Januar...   \n",
       "2           2  Donald Trump knew he lost.‚Äù 2/2 - Chmn. Benn...   \n",
       "3           3  These #January6thCommitteeHearings have been e...   \n",
       "4           4  RT @ColorMeStevie: Mr. Trump is responsible fo...   \n",
       "\n",
       "                                    Processed_Tweets       topic_label  \\\n",
       "0  fjc planned yesterday exactly reason knew repo...  Mitch_Kevin_Knew   \n",
       "1      america americafirst making martyr trump maga  Hamill_Democracy   \n",
       "2  donald trump knew lost 2 2 chmn bennie thompso...  Mitch_Kevin_Knew   \n",
       "3  explosive knew jan 6 premeditated tfg amp team...  Mitch_Kevin_Knew   \n",
       "4           mr trump responsible 6th period end lock  Mitch_Kevin_Knew   \n",
       "\n",
       "   intruder  intruder_index  jenni_intruder  \n",
       "0         0             NaN             NaN  \n",
       "1         1             1.0             1.0  \n",
       "2         0             NaN             NaN  \n",
       "3         0             NaN             NaN  \n",
       "4         0             NaN             NaN  "
      ]
     },
     "execution_count": 3,
     "metadata": {},
     "output_type": "execute_result"
    }
   ],
   "source": [
    "df = pd.read_csv(\"/Users/jennihawk/Documents/Data Science Projects/Project_NLP/Advanced_NLP_Project/Scoring Intrusion/result_draft_final_annotated.csv\")\n",
    "\n",
    "df.head()"
   ]
  },
  {
   "cell_type": "code",
   "execution_count": 6,
   "id": "42cf332c",
   "metadata": {},
   "outputs": [],
   "source": [
    "# fill nans with 0 so chris_intruder and intruder look the same\n",
    "df[\"jenni_intruder\"] = df[\"jenni_intruder\"].fillna(0)\n",
    "\n",
    "#true data | ground truth\n",
    "y_true = df[\"intruder\"]\n",
    "\n",
    "# model predictions - Human is also a model so this is our human prediction\n",
    "y_pred = df[\"jenni_intruder\"]"
   ]
  },
  {
   "cell_type": "code",
   "execution_count": 8,
   "id": "7b25cbea",
   "metadata": {},
   "outputs": [
    {
     "data": {
      "text/plain": [
       "(60, 7)"
      ]
     },
     "execution_count": 8,
     "metadata": {},
     "output_type": "execute_result"
    }
   ],
   "source": [
    "df.shape"
   ]
  },
  {
   "cell_type": "code",
   "execution_count": 7,
   "id": "5e02bcab",
   "metadata": {},
   "outputs": [
    {
     "name": "stdout",
     "output_type": "stream",
     "text": [
      "                 precision    recall  f1-score   support\n",
      "\n",
      "Does not matter       0.83      0.83      0.83        48\n",
      "  Doc intrusion       0.33      0.33      0.33        12\n",
      "\n",
      "       accuracy                           0.73        60\n",
      "      macro avg       0.58      0.58      0.58        60\n",
      "   weighted avg       0.73      0.73      0.73        60\n",
      "\n"
     ]
    }
   ],
   "source": [
    "print(\n",
    "    classification_report(\n",
    "        y_true, y_pred, target_names=[\"Does not matter\", \"Doc intrusion\"]\n",
    "    )\n",
    ")"
   ]
  },
  {
   "cell_type": "markdown",
   "id": "f79b7394",
   "metadata": {},
   "source": [
    "### Findings\n",
    "- How does this model score? \n",
    "    - Humans selected the intruder at a rate of 33%. Confidence in how this model is determining coherence is low. \n",
    "- Which topics scored best? "
   ]
  },
  {
   "cell_type": "code",
   "execution_count": null,
   "id": "af5e4adb",
   "metadata": {},
   "outputs": [],
   "source": []
  }
 ],
 "metadata": {
  "kernelspec": {
   "display_name": "Python 3 (ipykernel)",
   "language": "python",
   "name": "python3"
  },
  "language_info": {
   "codemirror_mode": {
    "name": "ipython",
    "version": 3
   },
   "file_extension": ".py",
   "mimetype": "text/x-python",
   "name": "python",
   "nbconvert_exporter": "python",
   "pygments_lexer": "ipython3",
   "version": "3.9.13"
  }
 },
 "nbformat": 4,
 "nbformat_minor": 5
}
