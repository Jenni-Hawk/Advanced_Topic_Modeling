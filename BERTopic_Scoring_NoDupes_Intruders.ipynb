{
 "cells": [
  {
   "cell_type": "code",
   "execution_count": 1,
   "id": "51b607cd",
   "metadata": {},
   "outputs": [],
   "source": [
    "import pandas as pd\n",
    "from sklearn.metrics import classification_report"
   ]
  },
  {
   "cell_type": "code",
   "execution_count": 2,
   "id": "17ae8873",
   "metadata": {},
   "outputs": [
    {
     "data": {
      "text/html": [
       "<div>\n",
       "<style scoped>\n",
       "    .dataframe tbody tr th:only-of-type {\n",
       "        vertical-align: middle;\n",
       "    }\n",
       "\n",
       "    .dataframe tbody tr th {\n",
       "        vertical-align: top;\n",
       "    }\n",
       "\n",
       "    .dataframe thead th {\n",
       "        text-align: right;\n",
       "    }\n",
       "</style>\n",
       "<table border=\"1\" class=\"dataframe\">\n",
       "  <thead>\n",
       "    <tr style=\"text-align: right;\">\n",
       "      <th></th>\n",
       "      <th>Unnamed: 0</th>\n",
       "      <th>Document</th>\n",
       "      <th>Topic</th>\n",
       "      <th>Name</th>\n",
       "      <th>intruder</th>\n",
       "      <th>intruder_index</th>\n",
       "      <th>Coburn Annotator</th>\n",
       "    </tr>\n",
       "  </thead>\n",
       "  <tbody>\n",
       "    <tr>\n",
       "      <th>0</th>\n",
       "      <td>0</td>\n",
       "      <td>I guess the government finally gave Trump an o...</td>\n",
       "      <td>0</td>\n",
       "      <td>0_subpoena_committee_subpoenaed_trump</td>\n",
       "      <td>0</td>\n",
       "      <td>NaN</td>\n",
       "      <td>NaN</td>\n",
       "    </tr>\n",
       "    <tr>\n",
       "      <th>1</th>\n",
       "      <td>1</td>\n",
       "      <td>Trump responds to Jan. 6 committee subpoena vo...</td>\n",
       "      <td>0</td>\n",
       "      <td>0_subpoena_committee_subpoenaed_trump</td>\n",
       "      <td>0</td>\n",
       "      <td>NaN</td>\n",
       "      <td>NaN</td>\n",
       "    </tr>\n",
       "    <tr>\n",
       "      <th>2</th>\n",
       "      <td>2</td>\n",
       "      <td>RT @PithyTruth: @JonathanTurley BEING A TRUMP ...</td>\n",
       "      <td>0</td>\n",
       "      <td>0_subpoena_committee_subpoenaed_trump</td>\n",
       "      <td>0</td>\n",
       "      <td>NaN</td>\n",
       "      <td>NaN</td>\n",
       "    </tr>\n",
       "    <tr>\n",
       "      <th>3</th>\n",
       "      <td>3</td>\n",
       "      <td>Jan. 6 panel subpoenas Trump, shows startling ...</td>\n",
       "      <td>0</td>\n",
       "      <td>0_subpoena_committee_subpoenaed_trump</td>\n",
       "      <td>0</td>\n",
       "      <td>NaN</td>\n",
       "      <td>NaN</td>\n",
       "    </tr>\n",
       "    <tr>\n",
       "      <th>4</th>\n",
       "      <td>4</td>\n",
       "      <td>#HATH #January6thCommitteeHearings \\n#Pennsylv...</td>\n",
       "      <td>1</td>\n",
       "      <td>1_trumpcoupattempt_trump_day_trumpisgoingtojail</td>\n",
       "      <td>1</td>\n",
       "      <td>4.0</td>\n",
       "      <td>1.0</td>\n",
       "    </tr>\n",
       "  </tbody>\n",
       "</table>\n",
       "</div>"
      ],
      "text/plain": [
       "   Unnamed: 0                                           Document  Topic   \n",
       "0           0  I guess the government finally gave Trump an o...      0  \\\n",
       "1           1  Trump responds to Jan. 6 committee subpoena vo...      0   \n",
       "2           2  RT @PithyTruth: @JonathanTurley BEING A TRUMP ...      0   \n",
       "3           3  Jan. 6 panel subpoenas Trump, shows startling ...      0   \n",
       "4           4  #HATH #January6thCommitteeHearings \\n#Pennsylv...      1   \n",
       "\n",
       "                                              Name  intruder  intruder_index   \n",
       "0            0_subpoena_committee_subpoenaed_trump         0             NaN  \\\n",
       "1            0_subpoena_committee_subpoenaed_trump         0             NaN   \n",
       "2            0_subpoena_committee_subpoenaed_trump         0             NaN   \n",
       "3            0_subpoena_committee_subpoenaed_trump         0             NaN   \n",
       "4  1_trumpcoupattempt_trump_day_trumpisgoingtojail         1             4.0   \n",
       "\n",
       "   Coburn Annotator  \n",
       "0               NaN  \n",
       "1               NaN  \n",
       "2               NaN  \n",
       "3               NaN  \n",
       "4               1.0  "
      ]
     },
     "execution_count": 2,
     "metadata": {},
     "output_type": "execute_result"
    }
   ],
   "source": [
    "df = pd.read_csv(\"/Users/jennihawk/Documents/Data Science Projects/Project_NLP/Advanced_NLP_Project/Human Coherence Scoring/BERTopic_Scoring/bertopic_no_dupes_v2_coburn.csv\")\n",
    "\n",
    "df.head()"
   ]
  },
  {
   "cell_type": "code",
   "execution_count": 3,
   "id": "42cf332c",
   "metadata": {},
   "outputs": [],
   "source": [
    "# fill nans with 0 so chris_intruder and intruder look the same\n",
    "df[\"Coburn Annotator\"] = df[\"Coburn Annotator\"].fillna(0)\n",
    "\n",
    "#true data | ground truth\n",
    "y_true = df[\"intruder\"]\n",
    "\n",
    "# model predictions - Human is also a model so this is our human prediction\n",
    "y_pred = df[\"Coburn Annotator\"]"
   ]
  },
  {
   "cell_type": "code",
   "execution_count": 4,
   "id": "c67d7ced",
   "metadata": {},
   "outputs": [
    {
     "data": {
      "text/plain": [
       "(60, 7)"
      ]
     },
     "execution_count": 4,
     "metadata": {},
     "output_type": "execute_result"
    }
   ],
   "source": [
    "df.shape"
   ]
  },
  {
   "cell_type": "code",
   "execution_count": 5,
   "id": "4510b257",
   "metadata": {
    "scrolled": true
   },
   "outputs": [
    {
     "data": {
      "text/html": [
       "<div>\n",
       "<style scoped>\n",
       "    .dataframe tbody tr th:only-of-type {\n",
       "        vertical-align: middle;\n",
       "    }\n",
       "\n",
       "    .dataframe tbody tr th {\n",
       "        vertical-align: top;\n",
       "    }\n",
       "\n",
       "    .dataframe thead th {\n",
       "        text-align: right;\n",
       "    }\n",
       "</style>\n",
       "<table border=\"1\" class=\"dataframe\">\n",
       "  <thead>\n",
       "    <tr style=\"text-align: right;\">\n",
       "      <th></th>\n",
       "      <th>Unnamed: 0</th>\n",
       "      <th>Document</th>\n",
       "      <th>Topic</th>\n",
       "      <th>Name</th>\n",
       "      <th>intruder</th>\n",
       "      <th>intruder_index</th>\n",
       "      <th>Coburn Annotator</th>\n",
       "    </tr>\n",
       "  </thead>\n",
       "  <tbody>\n",
       "    <tr>\n",
       "      <th>0</th>\n",
       "      <td>0</td>\n",
       "      <td>I guess the government finally gave Trump an o...</td>\n",
       "      <td>0</td>\n",
       "      <td>0_subpoena_committee_subpoenaed_trump</td>\n",
       "      <td>0</td>\n",
       "      <td>NaN</td>\n",
       "      <td>0.0</td>\n",
       "    </tr>\n",
       "    <tr>\n",
       "      <th>1</th>\n",
       "      <td>1</td>\n",
       "      <td>Trump responds to Jan. 6 committee subpoena vo...</td>\n",
       "      <td>0</td>\n",
       "      <td>0_subpoena_committee_subpoenaed_trump</td>\n",
       "      <td>0</td>\n",
       "      <td>NaN</td>\n",
       "      <td>0.0</td>\n",
       "    </tr>\n",
       "    <tr>\n",
       "      <th>2</th>\n",
       "      <td>2</td>\n",
       "      <td>RT @PithyTruth: @JonathanTurley BEING A TRUMP ...</td>\n",
       "      <td>0</td>\n",
       "      <td>0_subpoena_committee_subpoenaed_trump</td>\n",
       "      <td>0</td>\n",
       "      <td>NaN</td>\n",
       "      <td>0.0</td>\n",
       "    </tr>\n",
       "    <tr>\n",
       "      <th>3</th>\n",
       "      <td>3</td>\n",
       "      <td>Jan. 6 panel subpoenas Trump, shows startling ...</td>\n",
       "      <td>0</td>\n",
       "      <td>0_subpoena_committee_subpoenaed_trump</td>\n",
       "      <td>0</td>\n",
       "      <td>NaN</td>\n",
       "      <td>0.0</td>\n",
       "    </tr>\n",
       "    <tr>\n",
       "      <th>4</th>\n",
       "      <td>4</td>\n",
       "      <td>#HATH #January6thCommitteeHearings \\n#Pennsylv...</td>\n",
       "      <td>1</td>\n",
       "      <td>1_trumpcoupattempt_trump_day_trumpisgoingtojail</td>\n",
       "      <td>1</td>\n",
       "      <td>4.0</td>\n",
       "      <td>1.0</td>\n",
       "    </tr>\n",
       "  </tbody>\n",
       "</table>\n",
       "</div>"
      ],
      "text/plain": [
       "   Unnamed: 0                                           Document  Topic   \n",
       "0           0  I guess the government finally gave Trump an o...      0  \\\n",
       "1           1  Trump responds to Jan. 6 committee subpoena vo...      0   \n",
       "2           2  RT @PithyTruth: @JonathanTurley BEING A TRUMP ...      0   \n",
       "3           3  Jan. 6 panel subpoenas Trump, shows startling ...      0   \n",
       "4           4  #HATH #January6thCommitteeHearings \\n#Pennsylv...      1   \n",
       "\n",
       "                                              Name  intruder  intruder_index   \n",
       "0            0_subpoena_committee_subpoenaed_trump         0             NaN  \\\n",
       "1            0_subpoena_committee_subpoenaed_trump         0             NaN   \n",
       "2            0_subpoena_committee_subpoenaed_trump         0             NaN   \n",
       "3            0_subpoena_committee_subpoenaed_trump         0             NaN   \n",
       "4  1_trumpcoupattempt_trump_day_trumpisgoingtojail         1             4.0   \n",
       "\n",
       "   Coburn Annotator  \n",
       "0               0.0  \n",
       "1               0.0  \n",
       "2               0.0  \n",
       "3               0.0  \n",
       "4               1.0  "
      ]
     },
     "execution_count": 5,
     "metadata": {},
     "output_type": "execute_result"
    }
   ],
   "source": [
    "df.head()"
   ]
  },
  {
   "cell_type": "code",
   "execution_count": 6,
   "id": "5e02bcab",
   "metadata": {},
   "outputs": [
    {
     "name": "stdout",
     "output_type": "stream",
     "text": [
      "                 precision    recall  f1-score   support\n",
      "\n",
      "Does not matter       0.90      0.90      0.90        48\n",
      "  Doc intrusion       0.58      0.58      0.58        12\n",
      "\n",
      "       accuracy                           0.83        60\n",
      "      macro avg       0.74      0.74      0.74        60\n",
      "   weighted avg       0.83      0.83      0.83        60\n",
      "\n"
     ]
    }
   ],
   "source": [
    "print(\n",
    "    classification_report(\n",
    "        y_true, y_pred, target_names=[\"Does not matter\", \"Doc intrusion\"]\n",
    "    )\n",
    ")"
   ]
  },
  {
   "cell_type": "markdown",
   "id": "b9f16433",
   "metadata": {},
   "source": [
    "### Findings\n",
    "- How does this model score?\n",
    "A human correctly selected the intruder at a rate of 33%. Due to this low percentage of human accuracy we can't be confident that our model is determining the topics in a way that's coherent to humans.  \n",
    "- Which topics scored best? "
   ]
  },
  {
   "cell_type": "code",
   "execution_count": 7,
   "id": "9958298d",
   "metadata": {},
   "outputs": [
    {
     "name": "stdout",
     "output_type": "stream",
     "text": [
      "['0_subpoena_committee_subpoenaed_trump'\n",
      " '1_trumpcoupattempt_trump_day_trumpisgoingtojail'\n",
      " '2_and_forthepeople_peopleoverpolitics_standwithukraine'\n",
      " '3_rt_january6thcommitteehearings_watching_httpstcofcaejdpxxi']\n"
     ]
    }
   ],
   "source": [
    "print(df['Name'].unique())"
   ]
  },
  {
   "cell_type": "code",
   "execution_count": null,
   "id": "d5c87e1a",
   "metadata": {},
   "outputs": [],
   "source": [
    "print(\n",
    "    classification_report(\n",
    "        y_true, y_pred, target_names=[\"Does not matter\", \"Doc intrusion\"]\n",
    "    )\n",
    ")"
   ]
  },
  {
   "cell_type": "markdown",
   "id": "96aa45c3",
   "metadata": {},
   "source": [
    "### Subpoena Topic Scoring"
   ]
  },
  {
   "cell_type": "code",
   "execution_count": 8,
   "id": "a091e70c",
   "metadata": {},
   "outputs": [],
   "source": [
    "sub_scores = df.copy()"
   ]
  },
  {
   "cell_type": "markdown",
   "id": "15b4d301",
   "metadata": {},
   "source": [
    "### Delete rows based on inverse of column values\n",
    "Sometimes you need to drop the all rows which aren’t equal to a value given for a column. Pandas offer negation (~) operation to perform this feature."
   ]
  },
  {
   "cell_type": "code",
   "execution_count": 9,
   "id": "e9c7de15",
   "metadata": {},
   "outputs": [],
   "source": [
    "# Get indexes where name column doesn't have value \n",
    "indexNames = sub_scores[~(sub_scores['Name'] == '1_trumpcoupattempt_trump_day_trumpisgoingtojail')].index \n",
    "# Delete these row indexes from dataFrame\n",
    "sub_scores.drop(indexNames , inplace=True)"
   ]
  },
  {
   "cell_type": "code",
   "execution_count": 10,
   "id": "27114f0a",
   "metadata": {},
   "outputs": [
    {
     "data": {
      "text/html": [
       "<div>\n",
       "<style scoped>\n",
       "    .dataframe tbody tr th:only-of-type {\n",
       "        vertical-align: middle;\n",
       "    }\n",
       "\n",
       "    .dataframe tbody tr th {\n",
       "        vertical-align: top;\n",
       "    }\n",
       "\n",
       "    .dataframe thead th {\n",
       "        text-align: right;\n",
       "    }\n",
       "</style>\n",
       "<table border=\"1\" class=\"dataframe\">\n",
       "  <thead>\n",
       "    <tr style=\"text-align: right;\">\n",
       "      <th></th>\n",
       "      <th>Unnamed: 0</th>\n",
       "      <th>Document</th>\n",
       "      <th>Topic</th>\n",
       "      <th>Name</th>\n",
       "      <th>intruder</th>\n",
       "      <th>intruder_index</th>\n",
       "      <th>Coburn Annotator</th>\n",
       "    </tr>\n",
       "  </thead>\n",
       "  <tbody>\n",
       "    <tr>\n",
       "      <th>4</th>\n",
       "      <td>4</td>\n",
       "      <td>#HATH #January6thCommitteeHearings \\n#Pennsylv...</td>\n",
       "      <td>1</td>\n",
       "      <td>1_trumpcoupattempt_trump_day_trumpisgoingtojail</td>\n",
       "      <td>1</td>\n",
       "      <td>4.0</td>\n",
       "      <td>1.0</td>\n",
       "    </tr>\n",
       "    <tr>\n",
       "      <th>15</th>\n",
       "      <td>15</td>\n",
       "      <td>@RonFilipkowski No he ran to p- ‚Äîy named Don...</td>\n",
       "      <td>1</td>\n",
       "      <td>1_trumpcoupattempt_trump_day_trumpisgoingtojail</td>\n",
       "      <td>0</td>\n",
       "      <td>NaN</td>\n",
       "      <td>0.0</td>\n",
       "    </tr>\n",
       "    <tr>\n",
       "      <th>16</th>\n",
       "      <td>16</td>\n",
       "      <td>RT @mari45678910: Today was Donald Trump's no ...</td>\n",
       "      <td>1</td>\n",
       "      <td>1_trumpcoupattempt_trump_day_trumpisgoingtojail</td>\n",
       "      <td>0</td>\n",
       "      <td>NaN</td>\n",
       "      <td>0.0</td>\n",
       "    </tr>\n",
       "    <tr>\n",
       "      <th>17</th>\n",
       "      <td>17</td>\n",
       "      <td>@RNCLatinos When #TrumpCrimeFamily  was refusi...</td>\n",
       "      <td>1</td>\n",
       "      <td>1_trumpcoupattempt_trump_day_trumpisgoingtojail</td>\n",
       "      <td>0</td>\n",
       "      <td>NaN</td>\n",
       "      <td>0.0</td>\n",
       "    </tr>\n",
       "    <tr>\n",
       "      <th>18</th>\n",
       "      <td>18</td>\n",
       "      <td>BREAKING!!!  BIG  Trumps response  Must Read\\n...</td>\n",
       "      <td>1</td>\n",
       "      <td>1_trumpcoupattempt_trump_day_trumpisgoingtojail</td>\n",
       "      <td>0</td>\n",
       "      <td>NaN</td>\n",
       "      <td>1.0</td>\n",
       "    </tr>\n",
       "  </tbody>\n",
       "</table>\n",
       "</div>"
      ],
      "text/plain": [
       "    Unnamed: 0                                           Document  Topic   \n",
       "4            4  #HATH #January6thCommitteeHearings \\n#Pennsylv...      1  \\\n",
       "15          15  @RonFilipkowski No he ran to p- ‚Äîy named Don...      1   \n",
       "16          16  RT @mari45678910: Today was Donald Trump's no ...      1   \n",
       "17          17  @RNCLatinos When #TrumpCrimeFamily  was refusi...      1   \n",
       "18          18  BREAKING!!!  BIG  Trumps response  Must Read\\n...      1   \n",
       "\n",
       "                                               Name  intruder  intruder_index   \n",
       "4   1_trumpcoupattempt_trump_day_trumpisgoingtojail         1             4.0  \\\n",
       "15  1_trumpcoupattempt_trump_day_trumpisgoingtojail         0             NaN   \n",
       "16  1_trumpcoupattempt_trump_day_trumpisgoingtojail         0             NaN   \n",
       "17  1_trumpcoupattempt_trump_day_trumpisgoingtojail         0             NaN   \n",
       "18  1_trumpcoupattempt_trump_day_trumpisgoingtojail         0             NaN   \n",
       "\n",
       "    Coburn Annotator  \n",
       "4                1.0  \n",
       "15               0.0  \n",
       "16               0.0  \n",
       "17               0.0  \n",
       "18               1.0  "
      ]
     },
     "execution_count": 10,
     "metadata": {},
     "output_type": "execute_result"
    }
   ],
   "source": [
    "sub_scores.head()"
   ]
  },
  {
   "cell_type": "code",
   "execution_count": 16,
   "id": "1f0f531d",
   "metadata": {},
   "outputs": [],
   "source": [
    "#true data | ground truth\n",
    "y_true2 = sub_scores[\"intruder\"]\n",
    "\n",
    "# model predictions - Human is also a model so this is our human prediction\n",
    "y_pred2 = sub_scores[\"Coburn Annotator\"]"
   ]
  },
  {
   "cell_type": "code",
   "execution_count": 17,
   "id": "9e72b47d",
   "metadata": {},
   "outputs": [
    {
     "name": "stdout",
     "output_type": "stream",
     "text": [
      "                 precision    recall  f1-score   support\n",
      "\n",
      "Does not matter       0.90      0.75      0.82        12\n",
      "  Doc intrusion       0.40      0.67      0.50         3\n",
      "\n",
      "       accuracy                           0.73        15\n",
      "      macro avg       0.65      0.71      0.66        15\n",
      "   weighted avg       0.80      0.73      0.75        15\n",
      "\n"
     ]
    }
   ],
   "source": [
    "print(\n",
    "    classification_report(\n",
    "        y_true2, y_pred2, target_names=[\"Does not matter\", \"Doc intrusion\"]\n",
    "    )\n",
    ")"
   ]
  },
  {
   "cell_type": "code",
   "execution_count": null,
   "id": "a408552c",
   "metadata": {},
   "outputs": [],
   "source": []
  }
 ],
 "metadata": {
  "kernelspec": {
   "display_name": "Python 3 (ipykernel)",
   "language": "python",
   "name": "python3"
  },
  "language_info": {
   "codemirror_mode": {
    "name": "ipython",
    "version": 3
   },
   "file_extension": ".py",
   "mimetype": "text/x-python",
   "name": "python",
   "nbconvert_exporter": "python",
   "pygments_lexer": "ipython3",
   "version": "3.11.5"
  }
 },
 "nbformat": 4,
 "nbformat_minor": 5
}
