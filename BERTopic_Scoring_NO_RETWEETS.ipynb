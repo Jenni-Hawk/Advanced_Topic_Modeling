{
 "cells": [
  {
   "cell_type": "code",
   "execution_count": 31,
   "id": "51b607cd",
   "metadata": {},
   "outputs": [],
   "source": [
    "import pandas as pd\n",
    "from sklearn.metrics import classification_report"
   ]
  },
  {
   "cell_type": "code",
   "execution_count": 32,
   "id": "17ae8873",
   "metadata": {},
   "outputs": [
    {
     "data": {
      "text/html": [
       "<div>\n",
       "<style scoped>\n",
       "    .dataframe tbody tr th:only-of-type {\n",
       "        vertical-align: middle;\n",
       "    }\n",
       "\n",
       "    .dataframe tbody tr th {\n",
       "        vertical-align: top;\n",
       "    }\n",
       "\n",
       "    .dataframe thead th {\n",
       "        text-align: right;\n",
       "    }\n",
       "</style>\n",
       "<table border=\"1\" class=\"dataframe\">\n",
       "  <thead>\n",
       "    <tr style=\"text-align: right;\">\n",
       "      <th></th>\n",
       "      <th>Unnamed: 0</th>\n",
       "      <th>Document</th>\n",
       "      <th>Topic</th>\n",
       "      <th>Name</th>\n",
       "      <th>intruder</th>\n",
       "      <th>intruder_index</th>\n",
       "      <th>Coburn Annotator</th>\n",
       "    </tr>\n",
       "  </thead>\n",
       "  <tbody>\n",
       "    <tr>\n",
       "      <th>0</th>\n",
       "      <td>0</td>\n",
       "      <td>I guess the government finally gave Trump an o...</td>\n",
       "      <td>0</td>\n",
       "      <td>0_subpoena_committee_subpoenaed_trump</td>\n",
       "      <td>0</td>\n",
       "      <td>NaN</td>\n",
       "      <td>NaN</td>\n",
       "    </tr>\n",
       "    <tr>\n",
       "      <th>1</th>\n",
       "      <td>1</td>\n",
       "      <td>Trump responds to Jan. 6 committee subpoena vo...</td>\n",
       "      <td>0</td>\n",
       "      <td>0_subpoena_committee_subpoenaed_trump</td>\n",
       "      <td>0</td>\n",
       "      <td>NaN</td>\n",
       "      <td>NaN</td>\n",
       "    </tr>\n",
       "    <tr>\n",
       "      <th>2</th>\n",
       "      <td>2</td>\n",
       "      <td>RT @PithyTruth: @JonathanTurley BEING A TRUMP ...</td>\n",
       "      <td>0</td>\n",
       "      <td>0_subpoena_committee_subpoenaed_trump</td>\n",
       "      <td>0</td>\n",
       "      <td>NaN</td>\n",
       "      <td>NaN</td>\n",
       "    </tr>\n",
       "    <tr>\n",
       "      <th>3</th>\n",
       "      <td>3</td>\n",
       "      <td>Jan. 6 panel subpoenas Trump, shows startling ...</td>\n",
       "      <td>0</td>\n",
       "      <td>0_subpoena_committee_subpoenaed_trump</td>\n",
       "      <td>0</td>\n",
       "      <td>NaN</td>\n",
       "      <td>NaN</td>\n",
       "    </tr>\n",
       "    <tr>\n",
       "      <th>4</th>\n",
       "      <td>4</td>\n",
       "      <td>#HATH #January6thCommitteeHearings \\n#Pennsylv...</td>\n",
       "      <td>1</td>\n",
       "      <td>1_trumpcoupattempt_trump_day_trumpisgoingtojail</td>\n",
       "      <td>1</td>\n",
       "      <td>4.0</td>\n",
       "      <td>1.0</td>\n",
       "    </tr>\n",
       "  </tbody>\n",
       "</table>\n",
       "</div>"
      ],
      "text/plain": [
       "   Unnamed: 0                                           Document  Topic   \n",
       "0           0  I guess the government finally gave Trump an o...      0  \\\n",
       "1           1  Trump responds to Jan. 6 committee subpoena vo...      0   \n",
       "2           2  RT @PithyTruth: @JonathanTurley BEING A TRUMP ...      0   \n",
       "3           3  Jan. 6 panel subpoenas Trump, shows startling ...      0   \n",
       "4           4  #HATH #January6thCommitteeHearings \\n#Pennsylv...      1   \n",
       "\n",
       "                                              Name  intruder  intruder_index   \n",
       "0            0_subpoena_committee_subpoenaed_trump         0             NaN  \\\n",
       "1            0_subpoena_committee_subpoenaed_trump         0             NaN   \n",
       "2            0_subpoena_committee_subpoenaed_trump         0             NaN   \n",
       "3            0_subpoena_committee_subpoenaed_trump         0             NaN   \n",
       "4  1_trumpcoupattempt_trump_day_trumpisgoingtojail         1             4.0   \n",
       "\n",
       "   Coburn Annotator  \n",
       "0               NaN  \n",
       "1               NaN  \n",
       "2               NaN  \n",
       "3               NaN  \n",
       "4               1.0  "
      ]
     },
     "execution_count": 32,
     "metadata": {},
     "output_type": "execute_result"
    }
   ],
   "source": [
    "df = pd.read_csv(\"/Users/jennihawk/Documents/Data Science Projects/Project_NLP/Advanced_NLP_Project/Human Coherence Scoring/BERTopic_Scoring/bertopic_no_dupes_v2_coburn.csv\")\n",
    "\n",
    "df.head()"
   ]
  },
  {
   "cell_type": "code",
   "execution_count": 33,
   "id": "42cf332c",
   "metadata": {},
   "outputs": [],
   "source": [
    "# fill nans with 0 so chris_intruder and intruder look the same\n",
    "df[\"Coburn Annotator\"] = df[\"Coburn Annotator\"].fillna(0)\n",
    "\n",
    "#true data | ground truth\n",
    "y_true = df[\"intruder\"]\n",
    "\n",
    "# model predictions - Human is also a model so this is our human prediction\n",
    "y_pred = df[\"Coburn Annotator\"]"
   ]
  },
  {
   "cell_type": "code",
   "execution_count": 34,
   "id": "c67d7ced",
   "metadata": {},
   "outputs": [
    {
     "data": {
      "text/plain": [
       "(60, 7)"
      ]
     },
     "execution_count": 34,
     "metadata": {},
     "output_type": "execute_result"
    }
   ],
   "source": [
    "df.shape"
   ]
  },
  {
   "cell_type": "markdown",
   "id": "280304de",
   "metadata": {},
   "source": [
    "### Model Scoring"
   ]
  },
  {
   "cell_type": "code",
   "execution_count": 37,
   "id": "5e02bcab",
   "metadata": {},
   "outputs": [
    {
     "name": "stdout",
     "output_type": "stream",
     "text": [
      "                 precision    recall  f1-score   support\n",
      "\n",
      "Does not matter       0.90      0.90      0.90        48\n",
      "  Doc intrusion       0.58      0.58      0.58        12\n",
      "\n",
      "       accuracy                           0.83        60\n",
      "      macro avg       0.74      0.74      0.74        60\n",
      "   weighted avg       0.83      0.83      0.83        60\n",
      "\n"
     ]
    }
   ],
   "source": [
    "print(\n",
    "    classification_report(\n",
    "        y_true, y_pred, target_names=[\"Does not matter\", \"Doc intrusion\"]\n",
    "    )\n",
    ")"
   ]
  },
  {
   "cell_type": "markdown",
   "id": "b9f16433",
   "metadata": {},
   "source": [
    "### Topic Scoring\n",
    "- Using this function to create a new column that assigns a name to every group that ALSO includes the intruder in that group. The important point being that we need to get the intruder in the group name. \n",
    "- Grouping by every 5 rows because that's how data is structured. \n",
    "- Uses floor division to get an integer to use \n",
    "- IMPORTANT: If I change row number in research methodology - must update this code!"
   ]
  },
  {
   "cell_type": "code",
   "execution_count": 40,
   "id": "b12c2e57",
   "metadata": {},
   "outputs": [],
   "source": [
    "def add_majority_vote_column(df):\n",
    "    # Helper function to determine the majority vote for a group\n",
    "    def majority_vote(group):\n",
    "        return group.mode()[0] if not group.mode().empty else None\n",
    "\n",
    "    # Group rows by every 5 rows using floor division. Gets integer vs float.\n",
    "    df['group'] = df.index // 5\n",
    "\n",
    "    # Compute the majority vote for each group and map it to the original dataframe\n",
    "    df['majority_vote'] = df['group'].map(df.groupby('group')['Name'].apply(majority_vote))\n",
    "\n",
    "    # Drop the temporary 'group' column\n",
    "    df.drop('group', axis=1, inplace=True)\n",
    "\n",
    "    return df"
   ]
  },
  {
   "cell_type": "markdown",
   "id": "0cdc63cc",
   "metadata": {},
   "source": [
    "#### Review what we're getting from function\n",
    "- A column that identifies each grouping AND includes the intruder with that grouping. "
   ]
  },
  {
   "cell_type": "code",
   "execution_count": 41,
   "id": "f00a6acf",
   "metadata": {},
   "outputs": [],
   "source": [
    "#add_majority_vote_column(df)"
   ]
  },
  {
   "cell_type": "markdown",
   "id": "ac20f1bf",
   "metadata": {},
   "source": [
    "#### Create a new df to add the new column"
   ]
  },
  {
   "cell_type": "code",
   "execution_count": 42,
   "id": "07cf9316",
   "metadata": {
    "scrolled": false
   },
   "outputs": [],
   "source": [
    "#creates a new dataframe that adds the 'add_majority_vote_column'\n",
    "new_df = add_majority_vote_column(df)"
   ]
  },
  {
   "cell_type": "markdown",
   "id": "f985cbad",
   "metadata": {},
   "source": [
    "#### Create a filter to select the rows in topic 0"
   ]
  },
  {
   "cell_type": "code",
   "execution_count": 52,
   "id": "0be0f07c",
   "metadata": {},
   "outputs": [],
   "source": [
    "filt_0 = new_df.majority_vote.str.contains('0')\n",
    "filt_1 = new_df.majority_vote.str.contains('1')\n",
    "filt_2 = new_df.majority_vote.str.contains('2')\n",
    "filt_3 = new_df.majority_vote.str.contains('3')"
   ]
  },
  {
   "cell_type": "markdown",
   "id": "a2a93e04",
   "metadata": {},
   "source": [
    "### Topic 0 Scoring\n",
    "- Create another df and apply filter so we're isolating topic 0"
   ]
  },
  {
   "cell_type": "code",
   "execution_count": 48,
   "id": "ab57819f",
   "metadata": {},
   "outputs": [],
   "source": [
    "xdf = new_df[filt_0]"
   ]
  },
  {
   "cell_type": "code",
   "execution_count": 49,
   "id": "2909102e",
   "metadata": {},
   "outputs": [
    {
     "name": "stderr",
     "output_type": "stream",
     "text": [
      "/var/folders/j0/364009cj7xnbq46wqpdh5v9m0000gn/T/ipykernel_46589/389952767.py:2: SettingWithCopyWarning: \n",
      "A value is trying to be set on a copy of a slice from a DataFrame.\n",
      "Try using .loc[row_indexer,col_indexer] = value instead\n",
      "\n",
      "See the caveats in the documentation: https://pandas.pydata.org/pandas-docs/stable/user_guide/indexing.html#returning-a-view-versus-a-copy\n",
      "  xdf[\"Coburn Annotator\"] = xdf[\"Coburn Annotator\"].fillna(0)\n"
     ]
    }
   ],
   "source": [
    "# fill nans with 0 so chris_intruder and intruder look the same\n",
    "xdf[\"Coburn Annotator\"] = xdf[\"Coburn Annotator\"].fillna(0)\n",
    "\n",
    "#true data | ground truth\n",
    "y_true = xdf[\"intruder\"]\n",
    "\n",
    "# model predictions - Human is also a model so this is our human prediction\n",
    "y_pred = xdf[\"Coburn Annotator\"]"
   ]
  },
  {
   "cell_type": "code",
   "execution_count": 50,
   "id": "47da537e",
   "metadata": {},
   "outputs": [
    {
     "name": "stdout",
     "output_type": "stream",
     "text": [
      "                 precision    recall  f1-score   support\n",
      "\n",
      "Does not matter       1.00      1.00      1.00        12\n",
      "  Doc intrusion       1.00      1.00      1.00         3\n",
      "\n",
      "       accuracy                           1.00        15\n",
      "      macro avg       1.00      1.00      1.00        15\n",
      "   weighted avg       1.00      1.00      1.00        15\n",
      "\n"
     ]
    }
   ],
   "source": [
    "print(\n",
    "    classification_report(\n",
    "        y_true, y_pred, target_names=[\"Does not matter\", \"Doc intrusion\"]\n",
    "    )\n",
    ")"
   ]
  },
  {
   "cell_type": "markdown",
   "id": "2d9b2f86",
   "metadata": {},
   "source": [
    "#### Finding: topic 0 == 100% coherence"
   ]
  },
  {
   "cell_type": "markdown",
   "id": "30c395a1",
   "metadata": {},
   "source": [
    "### Topic 1 Scoring"
   ]
  },
  {
   "cell_type": "code",
   "execution_count": 53,
   "id": "95122337",
   "metadata": {},
   "outputs": [],
   "source": [
    "xdf1 = new_df[filt_1]"
   ]
  },
  {
   "cell_type": "code",
   "execution_count": 54,
   "id": "85089c5e",
   "metadata": {},
   "outputs": [
    {
     "name": "stderr",
     "output_type": "stream",
     "text": [
      "/var/folders/j0/364009cj7xnbq46wqpdh5v9m0000gn/T/ipykernel_46589/1515661031.py:2: SettingWithCopyWarning: \n",
      "A value is trying to be set on a copy of a slice from a DataFrame.\n",
      "Try using .loc[row_indexer,col_indexer] = value instead\n",
      "\n",
      "See the caveats in the documentation: https://pandas.pydata.org/pandas-docs/stable/user_guide/indexing.html#returning-a-view-versus-a-copy\n",
      "  xdf1[\"Coburn Annotator\"] = xdf1[\"Coburn Annotator\"].fillna(0)\n"
     ]
    }
   ],
   "source": [
    "# fill nans with 0 so chris_intruder and intruder look the same\n",
    "xdf1[\"Coburn Annotator\"] = xdf1[\"Coburn Annotator\"].fillna(0)\n",
    "\n",
    "#true data | ground truth\n",
    "y_true = xdf1[\"intruder\"]\n",
    "\n",
    "# model predictions - Human is also a model so this is our human prediction\n",
    "y_pred = xdf1[\"Coburn Annotator\"]"
   ]
  },
  {
   "cell_type": "code",
   "execution_count": 55,
   "id": "7760bb1f",
   "metadata": {},
   "outputs": [
    {
     "name": "stdout",
     "output_type": "stream",
     "text": [
      "                 precision    recall  f1-score   support\n",
      "\n",
      "Does not matter       0.75      0.75      0.75        12\n",
      "  Doc intrusion       0.00      0.00      0.00         3\n",
      "\n",
      "       accuracy                           0.60        15\n",
      "      macro avg       0.38      0.38      0.38        15\n",
      "   weighted avg       0.60      0.60      0.60        15\n",
      "\n"
     ]
    }
   ],
   "source": [
    "print(\n",
    "    classification_report(\n",
    "        y_true, y_pred, target_names=[\"Does not matter\", \"Doc intrusion\"]\n",
    "    )\n",
    ")"
   ]
  },
  {
   "cell_type": "markdown",
   "id": "4325b193",
   "metadata": {},
   "source": [
    "### Topic 2 Scoring"
   ]
  },
  {
   "cell_type": "code",
   "execution_count": 56,
   "id": "4b124b73",
   "metadata": {},
   "outputs": [],
   "source": [
    "xdf2 = new_df[filt_2]"
   ]
  },
  {
   "cell_type": "code",
   "execution_count": 57,
   "id": "ca0c55dc",
   "metadata": {},
   "outputs": [
    {
     "name": "stderr",
     "output_type": "stream",
     "text": [
      "/var/folders/j0/364009cj7xnbq46wqpdh5v9m0000gn/T/ipykernel_46589/182254506.py:2: SettingWithCopyWarning: \n",
      "A value is trying to be set on a copy of a slice from a DataFrame.\n",
      "Try using .loc[row_indexer,col_indexer] = value instead\n",
      "\n",
      "See the caveats in the documentation: https://pandas.pydata.org/pandas-docs/stable/user_guide/indexing.html#returning-a-view-versus-a-copy\n",
      "  xdf2[\"Coburn Annotator\"] = xdf2[\"Coburn Annotator\"].fillna(0)\n"
     ]
    }
   ],
   "source": [
    "# fill nans with 0 so chris_intruder and intruder look the same\n",
    "xdf2[\"Coburn Annotator\"] = xdf2[\"Coburn Annotator\"].fillna(0)\n",
    "\n",
    "#true data | ground truth\n",
    "y_true = xdf2[\"intruder\"]\n",
    "\n",
    "# model predictions - Human is also a model so this is our human prediction\n",
    "y_pred = xdf2[\"Coburn Annotator\"]"
   ]
  },
  {
   "cell_type": "code",
   "execution_count": 58,
   "id": "ad7d19a0",
   "metadata": {},
   "outputs": [
    {
     "name": "stdout",
     "output_type": "stream",
     "text": [
      "                 precision    recall  f1-score   support\n",
      "\n",
      "Does not matter       0.92      0.92      0.92        12\n",
      "  Doc intrusion       0.67      0.67      0.67         3\n",
      "\n",
      "       accuracy                           0.87        15\n",
      "      macro avg       0.79      0.79      0.79        15\n",
      "   weighted avg       0.87      0.87      0.87        15\n",
      "\n"
     ]
    }
   ],
   "source": [
    "print(\n",
    "    classification_report(\n",
    "        y_true, y_pred, target_names=[\"Does not matter\", \"Doc intrusion\"]\n",
    "    )\n",
    ")"
   ]
  },
  {
   "cell_type": "markdown",
   "id": "c96da622",
   "metadata": {},
   "source": [
    "### Topic 3 Scoring"
   ]
  },
  {
   "cell_type": "code",
   "execution_count": 59,
   "id": "1985b99a",
   "metadata": {},
   "outputs": [],
   "source": [
    "xdf3 = new_df[filt_3]"
   ]
  },
  {
   "cell_type": "code",
   "execution_count": 60,
   "id": "7255bbd6",
   "metadata": {},
   "outputs": [
    {
     "name": "stderr",
     "output_type": "stream",
     "text": [
      "/var/folders/j0/364009cj7xnbq46wqpdh5v9m0000gn/T/ipykernel_46589/3969133848.py:2: SettingWithCopyWarning: \n",
      "A value is trying to be set on a copy of a slice from a DataFrame.\n",
      "Try using .loc[row_indexer,col_indexer] = value instead\n",
      "\n",
      "See the caveats in the documentation: https://pandas.pydata.org/pandas-docs/stable/user_guide/indexing.html#returning-a-view-versus-a-copy\n",
      "  xdf3[\"Coburn Annotator\"] = xdf3[\"Coburn Annotator\"].fillna(0)\n"
     ]
    }
   ],
   "source": [
    "# fill nans with 0 so chris_intruder and intruder look the same\n",
    "xdf3[\"Coburn Annotator\"] = xdf3[\"Coburn Annotator\"].fillna(0)\n",
    "\n",
    "#true data | ground truth\n",
    "y_true = xdf3[\"intruder\"]\n",
    "\n",
    "# model predictions - Human is also a model so this is our human prediction\n",
    "y_pred = xdf3[\"Coburn Annotator\"]"
   ]
  },
  {
   "cell_type": "code",
   "execution_count": 61,
   "id": "1c02a50f",
   "metadata": {},
   "outputs": [
    {
     "name": "stdout",
     "output_type": "stream",
     "text": [
      "                 precision    recall  f1-score   support\n",
      "\n",
      "Does not matter       0.92      0.92      0.92        12\n",
      "  Doc intrusion       0.67      0.67      0.67         3\n",
      "\n",
      "       accuracy                           0.87        15\n",
      "      macro avg       0.79      0.79      0.79        15\n",
      "   weighted avg       0.87      0.87      0.87        15\n",
      "\n"
     ]
    }
   ],
   "source": [
    "print(\n",
    "    classification_report(\n",
    "        y_true, y_pred, target_names=[\"Does not matter\", \"Doc intrusion\"]\n",
    "    )\n",
    ")"
   ]
  },
  {
   "cell_type": "code",
   "execution_count": 51,
   "id": "1edc9450",
   "metadata": {},
   "outputs": [
    {
     "name": "stdout",
     "output_type": "stream",
     "text": [
      "['0_subpoena_committee_subpoenaed_trump'\n",
      " '1_trumpcoupattempt_trump_day_trumpisgoingtojail'\n",
      " '2_and_forthepeople_peopleoverpolitics_standwithukraine'\n",
      " '3_rt_january6thcommitteehearings_watching_httpstcofcaejdpxxi']\n"
     ]
    }
   ],
   "source": [
    "print(df['Name'].unique())"
   ]
  },
  {
   "cell_type": "code",
   "execution_count": null,
   "id": "e203dc7c",
   "metadata": {},
   "outputs": [],
   "source": []
  }
 ],
 "metadata": {
  "kernelspec": {
   "display_name": "Python 3 (ipykernel)",
   "language": "python",
   "name": "python3"
  },
  "language_info": {
   "codemirror_mode": {
    "name": "ipython",
    "version": 3
   },
   "file_extension": ".py",
   "mimetype": "text/x-python",
   "name": "python",
   "nbconvert_exporter": "python",
   "pygments_lexer": "ipython3",
   "version": "3.11.5"
  }
 },
 "nbformat": 4,
 "nbformat_minor": 5
}
