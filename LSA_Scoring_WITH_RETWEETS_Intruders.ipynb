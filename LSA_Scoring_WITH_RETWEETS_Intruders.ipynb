{
 "cells": [
  {
   "cell_type": "code",
   "execution_count": 7,
   "id": "51b607cd",
   "metadata": {},
   "outputs": [],
   "source": [
    "import pandas as pd\n",
    "from sklearn.metrics import classification_report"
   ]
  },
  {
   "cell_type": "code",
   "execution_count": 8,
   "id": "17ae8873",
   "metadata": {},
   "outputs": [
    {
     "data": {
      "text/html": [
       "<div>\n",
       "<style scoped>\n",
       "    .dataframe tbody tr th:only-of-type {\n",
       "        vertical-align: middle;\n",
       "    }\n",
       "\n",
       "    .dataframe tbody tr th {\n",
       "        vertical-align: top;\n",
       "    }\n",
       "\n",
       "    .dataframe thead th {\n",
       "        text-align: right;\n",
       "    }\n",
       "</style>\n",
       "<table border=\"1\" class=\"dataframe\">\n",
       "  <thead>\n",
       "    <tr style=\"text-align: right;\">\n",
       "      <th></th>\n",
       "      <th>Unnamed: 0</th>\n",
       "      <th>Tweets</th>\n",
       "      <th>topic_label</th>\n",
       "      <th>intruder</th>\n",
       "      <th>intruder_index</th>\n",
       "      <th>Coburn_Annotator</th>\n",
       "    </tr>\n",
       "  </thead>\n",
       "  <tbody>\n",
       "    <tr>\n",
       "      <th>0</th>\n",
       "      <td>0</td>\n",
       "      <td>RT @AdamKinzinger: Mitch McConnell.\\nKevin McC...</td>\n",
       "      <td>Mitch_Kevin_Knew</td>\n",
       "      <td>0</td>\n",
       "      <td>NaN</td>\n",
       "      <td>NaN</td>\n",
       "    </tr>\n",
       "    <tr>\n",
       "      <th>1</th>\n",
       "      <td>1</td>\n",
       "      <td>RT @AdamKinzinger: Mitch McConnell.\\nKevin McC...</td>\n",
       "      <td>Mitch_Kevin_Knew</td>\n",
       "      <td>0</td>\n",
       "      <td>NaN</td>\n",
       "      <td>NaN</td>\n",
       "    </tr>\n",
       "    <tr>\n",
       "      <th>2</th>\n",
       "      <td>2</td>\n",
       "      <td>RT @AdamKinzinger: Mitch McConnell.\\nKevin McC...</td>\n",
       "      <td>Mitch_Kevin_Knew</td>\n",
       "      <td>0</td>\n",
       "      <td>NaN</td>\n",
       "      <td>NaN</td>\n",
       "    </tr>\n",
       "    <tr>\n",
       "      <th>3</th>\n",
       "      <td>3</td>\n",
       "      <td>RT @ddanpereira: TRUMP KNEW he lost the electi...</td>\n",
       "      <td>Mitch_Kevin_Knew</td>\n",
       "      <td>0</td>\n",
       "      <td>NaN</td>\n",
       "      <td>NaN</td>\n",
       "    </tr>\n",
       "    <tr>\n",
       "      <th>4</th>\n",
       "      <td>4</td>\n",
       "      <td>RT @AdamKinzinger: When he couldn't accept his...</td>\n",
       "      <td>Hamill_Democracy</td>\n",
       "      <td>1</td>\n",
       "      <td>4.0</td>\n",
       "      <td>1.0</td>\n",
       "    </tr>\n",
       "  </tbody>\n",
       "</table>\n",
       "</div>"
      ],
      "text/plain": [
       "   Unnamed: 0                                             Tweets   \n",
       "0           0  RT @AdamKinzinger: Mitch McConnell.\\nKevin McC...  \\\n",
       "1           1  RT @AdamKinzinger: Mitch McConnell.\\nKevin McC...   \n",
       "2           2  RT @AdamKinzinger: Mitch McConnell.\\nKevin McC...   \n",
       "3           3  RT @ddanpereira: TRUMP KNEW he lost the electi...   \n",
       "4           4  RT @AdamKinzinger: When he couldn't accept his...   \n",
       "\n",
       "        topic_label  intruder  intruder_index  Coburn_Annotator  \n",
       "0  Mitch_Kevin_Knew         0             NaN               NaN  \n",
       "1  Mitch_Kevin_Knew         0             NaN               NaN  \n",
       "2  Mitch_Kevin_Knew         0             NaN               NaN  \n",
       "3  Mitch_Kevin_Knew         0             NaN               NaN  \n",
       "4  Hamill_Democracy         1             4.0               1.0  "
      ]
     },
     "execution_count": 8,
     "metadata": {},
     "output_type": "execute_result"
    }
   ],
   "source": [
    "df = pd.read_csv(\"/Users/jennihawk/Documents/Data Science Projects/Project_NLP/Advanced_NLP_Project/Human Coherence Scoring/LSA_Scoring/lsa_with_dupes_coburn.csv\")\n",
    "\n",
    "df.head()"
   ]
  },
  {
   "cell_type": "code",
   "execution_count": 9,
   "id": "42cf332c",
   "metadata": {},
   "outputs": [],
   "source": [
    "# fill nans with 0 so chris_intruder and intruder look the same\n",
    "df[\"Coburn_Annotator\"] = df[\"Coburn_Annotator\"].fillna(0)\n",
    "\n",
    "#true data | ground truth\n",
    "y_true = df[\"intruder\"]\n",
    "\n",
    "# model predictions - Human is also a model so this is our human prediction\n",
    "y_pred = df[\"Coburn_Annotator\"]"
   ]
  },
  {
   "cell_type": "code",
   "execution_count": 10,
   "id": "c67d7ced",
   "metadata": {},
   "outputs": [
    {
     "data": {
      "text/plain": [
       "(60, 6)"
      ]
     },
     "execution_count": 10,
     "metadata": {},
     "output_type": "execute_result"
    }
   ],
   "source": [
    "df.shape"
   ]
  },
  {
   "cell_type": "code",
   "execution_count": 16,
   "id": "4510b257",
   "metadata": {
    "scrolled": true
   },
   "outputs": [],
   "source": [
    "#df.head(60)"
   ]
  },
  {
   "cell_type": "code",
   "execution_count": 12,
   "id": "5e02bcab",
   "metadata": {},
   "outputs": [
    {
     "name": "stdout",
     "output_type": "stream",
     "text": [
      "                 precision    recall  f1-score   support\n",
      "\n",
      "Does not matter       0.85      0.85      0.85        48\n",
      "  Doc intrusion       0.42      0.42      0.42        12\n",
      "\n",
      "       accuracy                           0.77        60\n",
      "      macro avg       0.64      0.64      0.64        60\n",
      "   weighted avg       0.77      0.77      0.77        60\n",
      "\n"
     ]
    }
   ],
   "source": [
    "print(\n",
    "    classification_report(\n",
    "        y_true, y_pred, target_names=[\"Does not matter\", \"Doc intrusion\"]\n",
    "    )\n",
    ")"
   ]
  },
  {
   "cell_type": "markdown",
   "id": "b9f16433",
   "metadata": {},
   "source": [
    "### Findings\n",
    "- How does this model score?\n",
    "- Which topics scored best? "
   ]
  },
  {
   "cell_type": "code",
   "execution_count": null,
   "id": "9958298d",
   "metadata": {},
   "outputs": [],
   "source": []
  }
 ],
 "metadata": {
  "kernelspec": {
   "display_name": "Python 3 (ipykernel)",
   "language": "python",
   "name": "python3"
  },
  "language_info": {
   "codemirror_mode": {
    "name": "ipython",
    "version": 3
   },
   "file_extension": ".py",
   "mimetype": "text/x-python",
   "name": "python",
   "nbconvert_exporter": "python",
   "pygments_lexer": "ipython3",
   "version": "3.11.5"
  }
 },
 "nbformat": 4,
 "nbformat_minor": 5
}
