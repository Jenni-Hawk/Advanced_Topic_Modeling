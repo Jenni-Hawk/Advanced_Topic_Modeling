{
 "cells": [
  {
   "cell_type": "code",
   "execution_count": 3,
   "id": "51b607cd",
   "metadata": {},
   "outputs": [],
   "source": [
    "import pandas as pd\n",
    "from sklearn.metrics import classification_report"
   ]
  },
  {
   "cell_type": "code",
   "execution_count": 9,
   "id": "17ae8873",
   "metadata": {},
   "outputs": [
    {
     "data": {
      "text/html": [
       "<div>\n",
       "<style scoped>\n",
       "    .dataframe tbody tr th:only-of-type {\n",
       "        vertical-align: middle;\n",
       "    }\n",
       "\n",
       "    .dataframe tbody tr th {\n",
       "        vertical-align: top;\n",
       "    }\n",
       "\n",
       "    .dataframe thead th {\n",
       "        text-align: right;\n",
       "    }\n",
       "</style>\n",
       "<table border=\"1\" class=\"dataframe\">\n",
       "  <thead>\n",
       "    <tr style=\"text-align: right;\">\n",
       "      <th></th>\n",
       "      <th>Unnamed: 0</th>\n",
       "      <th>Document</th>\n",
       "      <th>Topic</th>\n",
       "      <th>Name</th>\n",
       "      <th>intruder</th>\n",
       "      <th>intruder_index</th>\n",
       "      <th>Coburn_Annotator</th>\n",
       "    </tr>\n",
       "  </thead>\n",
       "  <tbody>\n",
       "    <tr>\n",
       "      <th>0</th>\n",
       "      <td>0</td>\n",
       "      <td>RT @AdamKinzinger: Mitch McConnell.\\nKevin McC...</td>\n",
       "      <td>0</td>\n",
       "      <td>0_both_they_backed_kevin</td>\n",
       "      <td>0</td>\n",
       "      <td>NaN</td>\n",
       "      <td>NaN</td>\n",
       "    </tr>\n",
       "    <tr>\n",
       "      <th>1</th>\n",
       "      <td>1</td>\n",
       "      <td>RT @AdamKinzinger: Mitch McConnell.\\nKevin McC...</td>\n",
       "      <td>0</td>\n",
       "      <td>0_both_they_backed_kevin</td>\n",
       "      <td>0</td>\n",
       "      <td>NaN</td>\n",
       "      <td>NaN</td>\n",
       "    </tr>\n",
       "    <tr>\n",
       "      <th>2</th>\n",
       "      <td>2</td>\n",
       "      <td>RT @AdamKinzinger: Mitch McConnell.\\nKevin McC...</td>\n",
       "      <td>0</td>\n",
       "      <td>0_both_they_backed_kevin</td>\n",
       "      <td>0</td>\n",
       "      <td>NaN</td>\n",
       "      <td>NaN</td>\n",
       "    </tr>\n",
       "    <tr>\n",
       "      <th>3</th>\n",
       "      <td>3</td>\n",
       "      <td>RT @StandForBetter: üì∫ NEW Video: Trump Lost...</td>\n",
       "      <td>1</td>\n",
       "      <td>1_rudy_hatch_giuliani_meadows</td>\n",
       "      <td>1</td>\n",
       "      <td>3.0</td>\n",
       "      <td>1.0</td>\n",
       "    </tr>\n",
       "    <tr>\n",
       "      <th>4</th>\n",
       "      <td>4</td>\n",
       "      <td>RT @AdamKinzinger: Mitch McConnell.\\nKevin McC...</td>\n",
       "      <td>0</td>\n",
       "      <td>0_both_they_backed_kevin</td>\n",
       "      <td>0</td>\n",
       "      <td>NaN</td>\n",
       "      <td>NaN</td>\n",
       "    </tr>\n",
       "  </tbody>\n",
       "</table>\n",
       "</div>"
      ],
      "text/plain": [
       "   Unnamed: 0                                           Document  Topic   \n",
       "0           0  RT @AdamKinzinger: Mitch McConnell.\\nKevin McC...      0  \\\n",
       "1           1  RT @AdamKinzinger: Mitch McConnell.\\nKevin McC...      0   \n",
       "2           2  RT @AdamKinzinger: Mitch McConnell.\\nKevin McC...      0   \n",
       "3           3  RT @StandForBetter: üì∫ NEW Video: Trump Lost...      1   \n",
       "4           4  RT @AdamKinzinger: Mitch McConnell.\\nKevin McC...      0   \n",
       "\n",
       "                            Name  intruder  intruder_index  Coburn_Annotator  \n",
       "0       0_both_they_backed_kevin         0             NaN               NaN  \n",
       "1       0_both_they_backed_kevin         0             NaN               NaN  \n",
       "2       0_both_they_backed_kevin         0             NaN               NaN  \n",
       "3  1_rudy_hatch_giuliani_meadows         1             3.0               1.0  \n",
       "4       0_both_they_backed_kevin         0             NaN               NaN  "
      ]
     },
     "execution_count": 9,
     "metadata": {},
     "output_type": "execute_result"
    }
   ],
   "source": [
    "df = pd.read_csv(\"/Users/jennihawk/Documents/Data Science Projects/Project_NLP/Advanced_NLP_Project/Human Coherence Scoring/BERTopic_Scoring/bertopic_with_dupes_coburn.csv\")\n",
    "\n",
    "df.head()"
   ]
  },
  {
   "cell_type": "code",
   "execution_count": 12,
   "id": "42cf332c",
   "metadata": {},
   "outputs": [],
   "source": [
    "# fill nans with 0 so chris_intruder and intruder look the same\n",
    "df[\"Coburn_Annotator\"] = df[\"Coburn_Annotator\"].fillna(0)\n",
    "\n",
    "#true data | ground truth\n",
    "y_true = df[\"intruder\"]\n",
    "\n",
    "# model predictions - Human is also a model so this is our human prediction\n",
    "y_pred = df[\"Coburn_Annotator\"]"
   ]
  },
  {
   "cell_type": "code",
   "execution_count": 13,
   "id": "c67d7ced",
   "metadata": {},
   "outputs": [
    {
     "data": {
      "text/plain": [
       "(80, 7)"
      ]
     },
     "execution_count": 13,
     "metadata": {},
     "output_type": "execute_result"
    }
   ],
   "source": [
    "df.shape"
   ]
  },
  {
   "cell_type": "code",
   "execution_count": 14,
   "id": "4510b257",
   "metadata": {
    "scrolled": true
   },
   "outputs": [
    {
     "data": {
      "text/html": [
       "<div>\n",
       "<style scoped>\n",
       "    .dataframe tbody tr th:only-of-type {\n",
       "        vertical-align: middle;\n",
       "    }\n",
       "\n",
       "    .dataframe tbody tr th {\n",
       "        vertical-align: top;\n",
       "    }\n",
       "\n",
       "    .dataframe thead th {\n",
       "        text-align: right;\n",
       "    }\n",
       "</style>\n",
       "<table border=\"1\" class=\"dataframe\">\n",
       "  <thead>\n",
       "    <tr style=\"text-align: right;\">\n",
       "      <th></th>\n",
       "      <th>Unnamed: 0</th>\n",
       "      <th>Document</th>\n",
       "      <th>Topic</th>\n",
       "      <th>Name</th>\n",
       "      <th>intruder</th>\n",
       "      <th>intruder_index</th>\n",
       "      <th>Coburn_Annotator</th>\n",
       "    </tr>\n",
       "  </thead>\n",
       "  <tbody>\n",
       "    <tr>\n",
       "      <th>0</th>\n",
       "      <td>0</td>\n",
       "      <td>RT @AdamKinzinger: Mitch McConnell.\\nKevin McC...</td>\n",
       "      <td>0</td>\n",
       "      <td>0_both_they_backed_kevin</td>\n",
       "      <td>0</td>\n",
       "      <td>NaN</td>\n",
       "      <td>0.0</td>\n",
       "    </tr>\n",
       "    <tr>\n",
       "      <th>1</th>\n",
       "      <td>1</td>\n",
       "      <td>RT @AdamKinzinger: Mitch McConnell.\\nKevin McC...</td>\n",
       "      <td>0</td>\n",
       "      <td>0_both_they_backed_kevin</td>\n",
       "      <td>0</td>\n",
       "      <td>NaN</td>\n",
       "      <td>0.0</td>\n",
       "    </tr>\n",
       "    <tr>\n",
       "      <th>2</th>\n",
       "      <td>2</td>\n",
       "      <td>RT @AdamKinzinger: Mitch McConnell.\\nKevin McC...</td>\n",
       "      <td>0</td>\n",
       "      <td>0_both_they_backed_kevin</td>\n",
       "      <td>0</td>\n",
       "      <td>NaN</td>\n",
       "      <td>0.0</td>\n",
       "    </tr>\n",
       "    <tr>\n",
       "      <th>3</th>\n",
       "      <td>3</td>\n",
       "      <td>RT @StandForBetter: üì∫ NEW Video: Trump Lost...</td>\n",
       "      <td>1</td>\n",
       "      <td>1_rudy_hatch_giuliani_meadows</td>\n",
       "      <td>1</td>\n",
       "      <td>3.0</td>\n",
       "      <td>1.0</td>\n",
       "    </tr>\n",
       "    <tr>\n",
       "      <th>4</th>\n",
       "      <td>4</td>\n",
       "      <td>RT @AdamKinzinger: Mitch McConnell.\\nKevin McC...</td>\n",
       "      <td>0</td>\n",
       "      <td>0_both_they_backed_kevin</td>\n",
       "      <td>0</td>\n",
       "      <td>NaN</td>\n",
       "      <td>0.0</td>\n",
       "    </tr>\n",
       "  </tbody>\n",
       "</table>\n",
       "</div>"
      ],
      "text/plain": [
       "   Unnamed: 0                                           Document  Topic   \n",
       "0           0  RT @AdamKinzinger: Mitch McConnell.\\nKevin McC...      0  \\\n",
       "1           1  RT @AdamKinzinger: Mitch McConnell.\\nKevin McC...      0   \n",
       "2           2  RT @AdamKinzinger: Mitch McConnell.\\nKevin McC...      0   \n",
       "3           3  RT @StandForBetter: üì∫ NEW Video: Trump Lost...      1   \n",
       "4           4  RT @AdamKinzinger: Mitch McConnell.\\nKevin McC...      0   \n",
       "\n",
       "                            Name  intruder  intruder_index  Coburn_Annotator  \n",
       "0       0_both_they_backed_kevin         0             NaN               0.0  \n",
       "1       0_both_they_backed_kevin         0             NaN               0.0  \n",
       "2       0_both_they_backed_kevin         0             NaN               0.0  \n",
       "3  1_rudy_hatch_giuliani_meadows         1             3.0               1.0  \n",
       "4       0_both_they_backed_kevin         0             NaN               0.0  "
      ]
     },
     "execution_count": 14,
     "metadata": {},
     "output_type": "execute_result"
    }
   ],
   "source": [
    "df.head()"
   ]
  },
  {
   "cell_type": "code",
   "execution_count": 15,
   "id": "5e02bcab",
   "metadata": {},
   "outputs": [
    {
     "name": "stdout",
     "output_type": "stream",
     "text": [
      "                 precision    recall  f1-score   support\n",
      "\n",
      "Does not matter       0.98      0.98      0.98        64\n",
      "  Doc intrusion       0.94      0.94      0.94        16\n",
      "\n",
      "       accuracy                           0.97        80\n",
      "      macro avg       0.96      0.96      0.96        80\n",
      "   weighted avg       0.97      0.97      0.97        80\n",
      "\n"
     ]
    }
   ],
   "source": [
    "print(\n",
    "    classification_report(\n",
    "        y_true, y_pred, target_names=[\"Does not matter\", \"Doc intrusion\"]\n",
    "    )\n",
    ")"
   ]
  },
  {
   "cell_type": "markdown",
   "id": "b9f16433",
   "metadata": {},
   "source": [
    "### Findings\n",
    "- How does this model score?\n",
    "- Which topics scored best? "
   ]
  },
  {
   "cell_type": "code",
   "execution_count": null,
   "id": "9958298d",
   "metadata": {},
   "outputs": [],
   "source": []
  }
 ],
 "metadata": {
  "kernelspec": {
   "display_name": "Python 3 (ipykernel)",
   "language": "python",
   "name": "python3"
  },
  "language_info": {
   "codemirror_mode": {
    "name": "ipython",
    "version": 3
   },
   "file_extension": ".py",
   "mimetype": "text/x-python",
   "name": "python",
   "nbconvert_exporter": "python",
   "pygments_lexer": "ipython3",
   "version": "3.11.5"
  }
 },
 "nbformat": 4,
 "nbformat_minor": 5
}
